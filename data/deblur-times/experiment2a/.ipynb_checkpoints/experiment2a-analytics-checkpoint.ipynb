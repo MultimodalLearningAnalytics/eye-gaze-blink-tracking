{
 "cells": [
  {
   "cell_type": "code",
   "execution_count": 2,
   "id": "signal-cambodia",
   "metadata": {},
   "outputs": [],
   "source": [
    "import numpy as np\n",
    "from scipy.interpolate import UnivariateSpline\n",
    "from matplotlib import pyplot as plt\n",
    "\n",
    "plt.rcParams[\"figure.figsize\"] = (8,5)"
   ]
  },
  {
   "cell_type": "code",
   "execution_count": 3,
   "id": "radical-running",
   "metadata": {},
   "outputs": [],
   "source": [
    "def read_deblur_times(filename):\n",
    "    with open(filename) as file:\n",
    "        lines = file.readlines()\n",
    "        return list(map(lambda l : float(l), lines[1:]))\n",
    "\n",
    "def discard_outliers(times):\n",
    "    def is_outlier(time):\n",
    "        if time < 1000 or time > 3500:\n",
    "            print(\"Removed outlier: \" + str(time))\n",
    "            return True\n",
    "        else:\n",
    "            return False\n",
    "    return list(filter(lambda t : not is_outlier(t), times))"
   ]
  },
  {
   "cell_type": "code",
   "execution_count": 4,
   "id": "spare-miracle",
   "metadata": {},
   "outputs": [],
   "source": [
    "deblur_times = read_deblur_times(\"all_DeblurTimes-experiment2a.csv\")\n",
    "deblur_times = discard_outliers(deblur_times)"
   ]
  },
  {
   "cell_type": "code",
   "execution_count": 5,
   "id": "expressed-indonesian",
   "metadata": {},
   "outputs": [
    {
     "data": {
      "image/png": "[encoded data removed]",
      "text/plain": [
       "<Figure size 576x360 with 1 Axes>"
      ]
     },
     "metadata": {
      "needs_background": "light"
     },
     "output_type": "display_data"
    }
   ],
   "source": [
    "plt.hist(deblur_times, bins=100, range=[0,3500])\n",
    "plt.title(\"Histogram of deblur time (all participants)\")\n",
    "plt.xlabel(\"Deblur time (ms)\")\n",
    "plt.show()"
   ]
  },
  {
   "cell_type": "code",
   "execution_count": 6,
   "id": "noticed-cloud",
   "metadata": {},
   "outputs": [
    {
     "name": "stdout",
     "output_type": "stream",
     "text": [
      "Number of data points: 174\n",
      "Median: 2530.2163\n",
      "Standard deviation: 125.73397460245046\n",
      "95th percentile: 2902.1960919999997\n"
     ]
    }
   ],
   "source": [
    "print(\"Number of data points: \" + str(len(deblur_times)))\n",
    "print(\"Median: \" + str(np.median(deblur_times)))\n",
    "print(\"Standard deviation: \" + str(np.std(deblur_times)))\n",
    "print(\"95th percentile: \" + str(np.percentile(deblur_times, 98)))"
   ]
  },
  {
   "cell_type": "code",
   "execution_count": 7,
   "id": "exposed-reducing",
   "metadata": {},
   "outputs": [],
   "source": [
    "g_deblur_times = read_deblur_times(\"p1_DeblurTimes-experiment2a.csv\")\n",
    "g_deblur_times = discard_outliers(g_deblur_times)\n",
    "j_deblur_times = read_deblur_times(\"p2_DeblurTimes-experiment2a.csv\")\n",
    "j_deblur_times = discard_outliers(j_deblur_times)\n",
    "s_deblur_times = read_deblur_times(\"p3_DeblurTimes-experiment2a.csv\")\n",
    "s_deblur_times = discard_outliers(s_deblur_times)"
   ]
  },
  {
   "cell_type": "code",
   "execution_count": 8,
   "id": "reduced-discussion",
   "metadata": {},
   "outputs": [
    {
     "data": {
      "image/png": "[encoded data removed]",
      "text/plain": [
       "<Figure size 576x360 with 1 Axes>"
      ]
     },
     "metadata": {
      "needs_background": "light"
     },
     "output_type": "display_data"
    }
   ],
   "source": [
    "plt.hist([g_deblur_times, j_deblur_times, s_deblur_times], bins=30, range=[2200,3200])\n",
    "plt.title(\"Histogram of deblur time (individual participants)\")\n",
    "plt.xlabel(\"Deblur time (ms)\")\n",
    "plt.show()"
   ]
  },
  {
   "cell_type": "code",
   "execution_count": 9,
   "id": "ecological-czech",
   "metadata": {},
   "outputs": [
    {
     "name": "stdout",
     "output_type": "stream",
     "text": [
      "2476.1873\n",
      "2498.1859\n",
      "2589.7025\n"
     ]
    }
   ],
   "source": [
    "print(np.percentile(g_deblur_times, 50))\n",
    "print(np.percentile(j_deblur_times, 50))\n",
    "print(np.percentile(s_deblur_times, 50))"
   ]
  }
 ],
 "metadata": {
  "kernelspec": {
   "display_name": "Python 3",
   "language": "python",
   "name": "python3"
  },
  "language_info": {
   "codemirror_mode": {
    "name": "ipython",
    "version": 3
   },
   "file_extension": ".py",
   "mimetype": "text/x-python",
   "name": "python",
   "nbconvert_exporter": "python",
   "pygments_lexer": "ipython3",
   "version": "3.8.5"
  }
 },
 "nbformat": 4,
 "nbformat_minor": 5
}
